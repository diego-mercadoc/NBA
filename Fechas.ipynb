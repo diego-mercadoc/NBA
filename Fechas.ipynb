{
 "cells": [
  {
   "cell_type": "code",
   "execution_count": null,
   "metadata": {},
   "outputs": [
    {
     "ename": "",
     "evalue": "",
     "output_type": "error",
     "traceback": [
      "\u001b[1;31mRunning cells with '.venv (Python 3.13.1)' requires the ipykernel package.\n",
      "\u001b[1;31mRun the following command to install 'ipykernel' into the Python environment. \n",
      "\u001b[1;31mCommand: 'c:/Users/Diego/Documents/Github/NBA/.venv/Scripts/python.exe -m pip install ipykernel -U --force-reinstall'"
     ]
    }
   ],
   "source": [
    "import pandas as pd\n",
    "\n",
    "# **Step 1: Convert your existing CSV to naive datetimes**\n",
    "# Run this code snippet once in your Python environment to update nba_games_all.csv\n",
    "\n",
    "df = pd.read_csv('nba_games_all.csv')\n",
    "# Force them all to parse as UTC first (to avoid errors on any offset)\n",
    "df['Date'] = pd.to_datetime(df['Date'], utc=True)\n",
    "\n",
    "# If you do NOT want time zones at all, remove (localize to None):\n",
    "df['Date'] = df['Date'].dt.tz_localize(None)\n",
    "\n",
    "# Now all Date entries are tz-naive\n",
    "df.to_csv('nba_games_all.csv', index=False)\n",
    "print(\"Re-saved nba_games_all.csv with purely naive datetimes!\")"
   ]
  }
 ],
 "metadata": {
  "kernelspec": {
   "display_name": ".venv",
   "language": "python",
   "name": "python3"
  },
  "language_info": {
   "name": "python",
   "version": "3.13.1"
  }
 },
 "nbformat": 4,
 "nbformat_minor": 2
}
